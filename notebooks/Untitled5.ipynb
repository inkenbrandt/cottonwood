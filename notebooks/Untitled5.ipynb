{
 "cells": [
  {
   "cell_type": "markdown",
   "id": "62f1860b-ad65-4115-bd58-4d3aa797db07",
   "metadata": {},
   "source": [
    "# Zonal statistics for a stack of daily ET GeoTIFFs"
   ]
  },
  {
   "cell_type": "markdown",
   "id": "5b2365e4-2fd7-4b24-8abd-65629ceb48c8",
   "metadata": {},
   "source": [
    "## Initialize"
   ]
  },
  {
   "cell_type": "markdown",
   "id": "195a3f2c-2fdf-411a-8050-d0a9d545e782",
   "metadata": {},
   "source": [
    "### Import Libraries"
   ]
  },
  {
   "cell_type": "markdown",
   "id": "d626b5d8-70c5-4cc6-86d1-35382c600fc1",
   "metadata": {
    "execution": {
     "iopub.execute_input": "2025-07-03T16:27:31.395461Z",
     "iopub.status.busy": "2025-07-03T16:27:31.394803Z",
     "iopub.status.idle": "2025-07-03T16:27:31.399518Z",
     "shell.execute_reply": "2025-07-03T16:27:31.398906Z",
     "shell.execute_reply.started": "2025-07-03T16:27:31.395439Z"
    }
   },
   "source": [
    "import glob\n",
    "from pathlib import Path\n",
    "from typing import List, Sequence\n",
    "\n",
    "import geopandas as gpd\n",
    "import pandas as pd\n",
    "\n",
    "import rasterio\n",
    "from rasterio.warp import calculate_default_transform, reproject, Resampling\n",
    "from rasterstats import zonal_stats\n",
    "\n",
    "from tqdm.auto import tqdm   # nice progress bar in notebooks\n",
    "\n",
    "\n",
    "\n"
   ]
  },
  {
   "cell_type": "markdown",
   "id": "c91243e2-7574-4bc6-b87c-bd3e30de05ec",
   "metadata": {},
   "source": [
    "### Define Functions"
   ]
  },
  {
   "cell_type": "markdown",
   "id": "8b15f677-cf12-467b-8462-c53686a1424a",
   "metadata": {},
   "source": [
    "#### Zonal Statistics Functions"
   ]
  },
  {
   "cell_type": "code",
   "execution_count": 24,
   "id": "353b6cb7-dab9-4785-9471-8b0fd71cb71d",
   "metadata": {
    "execution": {
     "iopub.execute_input": "2025-07-03T16:49:59.923460Z",
     "iopub.status.busy": "2025-07-03T16:49:59.923212Z",
     "iopub.status.idle": "2025-07-03T16:49:59.930501Z",
     "shell.execute_reply": "2025-07-03T16:49:59.929765Z",
     "shell.execute_reply.started": "2025-07-03T16:49:59.923444Z"
    }
   },
   "outputs": [],
   "source": [
    "\n",
    "def _ensure_iterable(x: str | Sequence[str]) -> List[str]:\n",
    "    \"\"\"Turn a string like 'mean,sum' or a list into a clean list.\"\"\"\n",
    "    if isinstance(x, str):\n",
    "        return [s.strip() for s in x.split(\",\") if s.strip()]\n",
    "    return list(x)\n",
    "\n",
    "def zonal_stats_daily(\n",
    "    zones: gpd.GeoDataFrame,\n",
    "    raster_dir: str | Path,\n",
    "    pattern: str = \"*.tif\",\n",
    "    stats: str | Sequence[str] = \"mean\",\n",
    "    nodata: float | None = None,\n",
    "    all_touched: bool = False,\n",
    "    zone_id_col: str | None = None,\n",
    ") -> pd.DataFrame:\n",
    "    \"\"\"\n",
    "    Compute zonal statistics for every raster in `raster_dir` that matches `pattern`.\n",
    "\n",
    "    Parameters\n",
    "    ----------\n",
    "    zones : GeoPackage (GeoPandas object).\n",
    "    raster_dir : str or Path\n",
    "        Folder containing daily ET rasters.\n",
    "    pattern : str, default \"*.tif\"\n",
    "        Glob pattern for rasters.\n",
    "    stats : str or sequence, default \"mean\"\n",
    "        Stats to calculate (comma-separated string or list).\n",
    "        Examples: \"mean,sum\", [\"mean\", \"count\", \"std\"].\n",
    "    nodata : float or None, default None\n",
    "        NoData value to ignore.  If None, use the raster's internal NoData.\n",
    "    all_touched : bool, default False\n",
    "        If True, count any pixel the polygon touches; otherwise use pixel\n",
    "        centres only (the rasterstats default).\n",
    "    zone_id_col : str or None, default None\n",
    "        Name of an existing column to act as unique zone key.\n",
    "        If None, a new `zone_id` column will be created automatically.\n",
    "\n",
    "    Returns\n",
    "    -------\n",
    "    pandas.DataFrame\n",
    "        Columns: zone_id, date (from raster filename), <requested stats…>\n",
    "    \"\"\"\n",
    "\n",
    "    raster_dir = Path(raster_dir).expanduser().resolve()\n",
    "    tif_paths = sorted(raster_dir.glob(pattern))\n",
    "    if not tif_paths:\n",
    "        raise FileNotFoundError(f\"No rasters match {raster_dir / pattern}\")\n",
    "\n",
    "    # Make sure there's a unique integer key\n",
    "    key = zone_id_col or \"zone_id\"\n",
    "    if key not in zones.columns:\n",
    "        zones[key] = zones.index + 1\n",
    "\n",
    "    stats_list = _ensure_iterable(stats)\n",
    "    records = []\n",
    "\n",
    "    for tif in tqdm(tif_paths, desc=\"Processing rasters\"):\n",
    "        date_label = tif.stem           # e.g. \"20250601\"\n",
    "        with rasterio.open(tif) as src:\n",
    "            r_crs = src.crs\n",
    "\n",
    "        # Re-project polygons on-the-fly if CRS differs\n",
    "        zones_local = zones if zones.crs == r_crs else zones.to_crs(r_crs)\n",
    "\n",
    "        zs = zonal_stats(\n",
    "            vectors=zones_local,\n",
    "            raster=str(tif),\n",
    "            stats=stats_list,\n",
    "            nodata=nodata,\n",
    "            all_touched=all_touched,\n",
    "            geojson_out=False,\n",
    "        )\n",
    "\n",
    "        # Combine each polygon’s stats with its key & date\n",
    "        for z_row, z_stat in zip(zones_local.itertuples(index=False), zs):\n",
    "            rec = {\"zone_id\": getattr(z_row, key), \"date\": date_label}\n",
    "            rec.update({s: z_stat.get(s) for s in stats_list})\n",
    "            records.append(rec)\n",
    "\n",
    "    return pd.DataFrame(records)\n",
    "\n",
    "\n",
    "# -----------------------------------------------------------------\n",
    "# EXAMPLE USE (uncomment & edit paths to try it in your notebook) :\n",
    "# -----------------------------------------------------------------\n",
    "# df = zonal_stats_daily(\n",
    "#     gpkg=\"cottonwood_watersheds.gpkg\",\n",
    "#     layer=\"watersheds\",\n",
    "#     raster_dir=\"./daily_et\",\n",
    "#     pattern=\"*.tif\",\n",
    "#     stats=\"mean,sum\",\n",
    "#     all_touched=True,\n",
    "# )\n",
    "# df.head()\n"
   ]
  },
  {
   "cell_type": "markdown",
   "id": "a28ddc9e-600b-4118-841b-4ca32340fc13",
   "metadata": {},
   "source": [
    "#### Reprojection Function"
   ]
  },
  {
   "cell_type": "code",
   "execution_count": 6,
   "id": "8a9ba10e-f6ee-4f81-ab65-009b340c658f",
   "metadata": {
    "execution": {
     "iopub.execute_input": "2025-07-03T16:27:03.664045Z",
     "iopub.status.busy": "2025-07-03T16:27:03.663716Z",
     "iopub.status.idle": "2025-07-03T16:27:03.670103Z",
     "shell.execute_reply": "2025-07-03T16:27:03.669367Z",
     "shell.execute_reply.started": "2025-07-03T16:27:03.664025Z"
    }
   },
   "outputs": [],
   "source": [
    "\n",
    "def reproject_raster(\n",
    "    src_path: str | Path,\n",
    "    dst_path: str | Path,\n",
    "    dst_crs: str | dict,\n",
    "    resampling: Resampling = Resampling.nearest,\n",
    "    dst_resolution: tuple[float, float] | None = None,\n",
    ") -> None:\n",
    "    \"\"\"\n",
    "    Reproject a raster to a new coordinate reference system (CRS).\n",
    "\n",
    "    Parameters\n",
    "    ----------\n",
    "    src_path : str or Path\n",
    "        Path to the input raster (any GDAL-readable format).\n",
    "    dst_path : str or Path\n",
    "        Output path for the reprojected raster (extension chooses driver).\n",
    "    dst_crs : str or dict\n",
    "        Target CRS, e.g. \"EPSG:32612\" or a full PROJ string.\n",
    "    resampling : rasterio.warp.Resampling, optional\n",
    "        Resampling algorithm; default is nearest-neighbour.\n",
    "    dst_resolution : (float, float) or None, optional\n",
    "        Output pixel size (x_res, y_res) in target units.  If None,\n",
    "        rasterio picks defaults that preserve total extent.\n",
    "    \"\"\"\n",
    "    src_path, dst_path = Path(src_path), Path(dst_path)\n",
    "\n",
    "    with rasterio.open(src_path) as src:\n",
    "        transform, width, height = calculate_default_transform(\n",
    "            src.crs, dst_crs, src.width, src.height, *src.bounds,\n",
    "            resolution=dst_resolution\n",
    "        )\n",
    "        profile = src.profile.copy()\n",
    "        profile.update(\n",
    "            crs=dst_crs,\n",
    "            transform=transform,\n",
    "            width=width,\n",
    "            height=height\n",
    "        )\n",
    "\n",
    "        # Create folders if needed\n",
    "        dst_path.parent.mkdir(parents=True, exist_ok=True)\n",
    "\n",
    "        with rasterio.open(dst_path, \"w\", **profile) as dst:\n",
    "            for i in range(1, src.count + 1):\n",
    "                reproject(\n",
    "                    source=rasterio.band(src, i),\n",
    "                    destination=rasterio.band(dst, i),\n",
    "                    src_transform=src.transform,\n",
    "                    src_crs=src.crs,\n",
    "                    dst_transform=transform,\n",
    "                    dst_crs=dst_crs,\n",
    "                    resampling=resampling,\n",
    "                )\n",
    "\n"
   ]
  },
  {
   "cell_type": "markdown",
   "id": "9ffcfb74-4fb9-4dc0-8d5c-9419e1eafa28",
   "metadata": {},
   "source": [
    "### Set Directories"
   ]
  },
  {
   "cell_type": "code",
   "execution_count": null,
   "id": "c3b884ab-d384-447c-b8e7-0633d0c16d86",
   "metadata": {},
   "outputs": [],
   "source": []
  },
  {
   "cell_type": "code",
   "execution_count": 16,
   "id": "83f9cb1c-e6bb-4c88-a875-40b475d105d7",
   "metadata": {
    "execution": {
     "iopub.execute_input": "2025-07-03T16:43:38.356680Z",
     "iopub.status.busy": "2025-07-03T16:43:38.356392Z",
     "iopub.status.idle": "2025-07-03T16:43:38.360648Z",
     "shell.execute_reply": "2025-07-03T16:43:38.360085Z",
     "shell.execute_reply.started": "2025-07-03T16:43:38.356659Z"
    }
   },
   "outputs": [],
   "source": [
    "gis_dir = Path(\"E:/UGS_Flux/Projects_and_Proposals/Castledale_ET/GIS\")\n",
    "rast_dir = gis_dir / \"ECOSTRESS\"\n",
    "raw_rast_dir = rast_dir / \"raw\"\n",
    "repro_rast_dir = rast_dir / \"reprojected\""
   ]
  },
  {
   "cell_type": "markdown",
   "id": "e89daf39-7f16-4f3a-bde1-9736f8cadfc1",
   "metadata": {},
   "source": [
    "## Import Geopackaage"
   ]
  },
  {
   "cell_type": "code",
   "execution_count": 19,
   "id": "db4d9349-35f6-4c2a-be12-efba3238b707",
   "metadata": {
    "execution": {
     "iopub.execute_input": "2025-07-03T16:44:10.940727Z",
     "iopub.status.busy": "2025-07-03T16:44:10.940306Z",
     "iopub.status.idle": "2025-07-03T16:44:11.079271Z",
     "shell.execute_reply": "2025-07-03T16:44:11.078643Z",
     "shell.execute_reply.started": "2025-07-03T16:44:10.940708Z"
    }
   },
   "outputs": [
    {
     "name": "stdout",
     "output_type": "stream",
     "text": [
      "EPSG:26912\n"
     ]
    },
    {
     "data": {
      "image/png": "[encoded data removed]",
      "text/plain": [
       "<Figure size 640x480 with 1 Axes>"
      ]
     },
     "metadata": {},
     "output_type": "display_data"
    }
   ],
   "source": [
    "sheds = gpd.read_file(gis_dir / \"cottonwood_watersheds.gpkg\")\n",
    "sheds.plot()\n",
    "print(sheds.crs)"
   ]
  },
  {
   "cell_type": "markdown",
   "id": "037af560-28cc-4e16-8396-38050b8d7446",
   "metadata": {},
   "source": [
    "## Reproject Rasters"
   ]
  },
  {
   "cell_type": "markdown",
   "id": "ec0e1543-4979-4b2f-b8be-232101f075db",
   "metadata": {},
   "source": [
    "### ALEXI Daily"
   ]
  },
  {
   "cell_type": "code",
   "execution_count": 21,
   "id": "2cdab798-f0ba-4d93-ba59-18ec9aede19a",
   "metadata": {
    "execution": {
     "iopub.execute_input": "2025-07-03T16:45:25.824453Z",
     "iopub.status.busy": "2025-07-03T16:45:25.824067Z",
     "iopub.status.idle": "2025-07-03T16:45:56.870473Z",
     "shell.execute_reply": "2025-07-03T16:45:56.869638Z",
     "shell.execute_reply.started": "2025-07-03T16:45:25.824428Z"
    },
    "scrolled": true
   },
   "outputs": [
    {
     "name": "stdout",
     "output_type": "stream",
     "text": [
      "2019 147\n",
      "2019 151\n",
      "2019 154\n",
      "2019 158\n",
      "2019 159\n",
      "2019 161\n",
      "2019 162\n",
      "2019 163\n",
      "2019 165\n",
      "2019 169\n",
      "2019 172\n",
      "2019 172\n",
      "2019 173\n",
      "2019 173\n",
      "2019 176\n",
      "2019 176\n",
      "2019 180\n",
      "2019 180\n",
      "2019 183\n",
      "2019 184\n",
      "2019 187\n",
      "2019 187\n",
      "2019 213\n",
      "2019 223\n",
      "2019 224\n",
      "2019 225\n",
      "2019 231\n",
      "2019 243\n",
      "2019 246\n",
      "2019 250\n",
      "2019 250\n",
      "2019 269\n",
      "2019 272\n",
      "2019 280\n",
      "2019 287\n",
      "2019 288\n",
      "2019 291\n",
      "2019 291\n",
      "2019 292\n",
      "2019 292\n",
      "2019 295\n",
      "2019 295\n",
      "2019 299\n",
      "2019 299\n",
      "2019 307\n",
      "2019 307\n",
      "2019 340\n",
      "2019 344\n",
      "2019 348\n",
      "2020 26\n",
      "2020 29\n",
      "2021 91\n",
      "2021 92\n",
      "2021 96\n",
      "2021 97\n",
      "2021 99\n",
      "2021 103\n",
      "2021 103\n",
      "2021 104\n",
      "2021 104\n",
      "2021 107\n",
      "2021 108\n",
      "2021 108\n",
      "2021 124\n",
      "2021 131\n",
      "2021 140\n",
      "2021 144\n",
      "2021 147\n",
      "2021 155\n",
      "2021 156\n",
      "2021 159\n",
      "2021 175\n",
      "2021 175\n",
      "2021 187\n",
      "2021 191\n",
      "2021 234\n",
      "2021 234\n",
      "2021 235\n",
      "2021 239\n",
      "2021 243\n",
      "2021 247\n",
      "2021 267\n",
      "2021 267\n",
      "2021 270\n",
      "2021 270\n",
      "2021 271\n",
      "2021 271\n",
      "2021 283\n",
      "2021 283\n",
      "2021 283\n",
      "2021 286\n",
      "2021 286\n",
      "2021 287\n",
      "2021 287\n",
      "2021 290\n",
      "2021 295\n",
      "2021 299\n",
      "2021 334\n",
      "2021 335\n",
      "2021 335\n",
      "2021 342\n",
      "2021 342\n",
      "2022 28\n",
      "2022 32\n",
      "2022 35\n",
      "2022 36\n",
      "2022 82\n",
      "2022 86\n",
      "2022 89\n",
      "2022 90\n",
      "2022 93\n",
      "2022 108\n",
      "2022 109\n",
      "2022 109\n",
      "2022 113\n",
      "2022 140\n",
      "2022 147\n",
      "2022 155\n",
      "2022 155\n",
      "2022 162\n",
      "2022 166\n",
      "2022 166\n",
      "2022 170\n",
      "2022 170\n",
      "2022 181\n",
      "2022 189\n",
      "2022 189\n",
      "2022 190\n",
      "2022 201\n",
      "2022 205\n",
      "2022 208\n",
      "2022 211\n",
      "2022 212\n",
      "2022 217\n",
      "2022 219\n",
      "2022 220\n",
      "2022 221\n",
      "2022 223\n",
      "2022 234\n",
      "2022 234\n",
      "2022 243\n",
      "2022 272\n",
      "2022 276\n",
      "2022 280\n",
      "2022 281\n",
      "2022 304\n"
     ]
    }
   ],
   "source": [
    "\n",
    "\n",
    "for file in raw_rast_dir.glob(\"*ALEXI_ETdaily*.tif\"):\n",
    "    yeardoy = str(file.stem).split(\"_\")[-2][3:-6]\n",
    "    year = int(yeardoy[:4])\n",
    "    doy = int(yeardoy[-3:])\n",
    "    print(year, doy)\n",
    "    reproject_raster(file, repro_rast_dir / f\"ecostress_ALEXI_{yeardoy}.tif\",dst_crs = sheds.crs)"
   ]
  },
  {
   "cell_type": "markdown",
   "id": "2d3345f1-6d92-4504-b1ca-6c8c2468a693",
   "metadata": {},
   "source": [
    "### JPL"
   ]
  },
  {
   "cell_type": "code",
   "execution_count": null,
   "id": "7ebb1ca9-696a-42e7-b496-bb57d82b9047",
   "metadata": {},
   "outputs": [],
   "source": []
  },
  {
   "cell_type": "markdown",
   "id": "6f4ef763-dc9d-48d0-81df-4e5b05c15073",
   "metadata": {},
   "source": [
    "## Zonal Statistics"
   ]
  },
  {
   "cell_type": "code",
   "execution_count": 33,
   "id": "ad64aa89-64da-4ba7-9913-c19fb7e944e3",
   "metadata": {
    "execution": {
     "iopub.execute_input": "2025-07-03T17:00:25.012248Z",
     "iopub.status.busy": "2025-07-03T17:00:25.011943Z",
     "iopub.status.idle": "2025-07-03T17:01:17.451763Z",
     "shell.execute_reply": "2025-07-03T17:01:17.450895Z",
     "shell.execute_reply.started": "2025-07-03T17:00:25.012230Z"
    }
   },
   "outputs": [
    {
     "data": {
      "application/vnd.jupyter.widget-view+json": {
       "model_id": "755b0b48e0b747e48c116bcd443cc600",
       "version_major": 2,
       "version_minor": 0
      },
      "text/plain": [
       "Processing rasters:   0%|          | 0/115 [00:00<?, ?it/s]"
      ]
     },
     "metadata": {},
     "output_type": "display_data"
    }
   ],
   "source": [
    "df = zonal_stats_daily(sheds,\n",
    "    raster_dir=repro_rast_dir,\n",
    "    pattern = \"*ALEXI*.tif\")"
   ]
  },
  {
   "cell_type": "code",
   "execution_count": 35,
   "id": "991cd647-4697-4bb5-8f87-cc25bc13d798",
   "metadata": {
    "execution": {
     "iopub.execute_input": "2025-07-03T17:03:49.191786Z",
     "iopub.status.busy": "2025-07-03T17:03:49.191511Z",
     "iopub.status.idle": "2025-07-03T17:03:49.211541Z",
     "shell.execute_reply": "2025-07-03T17:03:49.211133Z",
     "shell.execute_reply.started": "2025-07-03T17:03:49.191769Z"
    }
   },
   "outputs": [],
   "source": [
    "# 1. Split on '_' and grab the last part (year + day‑of‑year)\n",
    "df[\"year_doy\"] = df[\"date\"].str.split(\"_\").str[-1]\n",
    "\n",
    "# 2. Convert that YYYYDOY string (e.g. 2019147) to a real datetime\n",
    "df[\"parsed_date\"] = pd.to_datetime(df[\"year_doy\"], format=\"%Y%j\")\n",
    "\n",
    "# 3. Keep the year and DOY as separate numeric columns\n",
    "df[\"year\"] = df[\"parsed_date\"].dt.year\n",
    "df[\"doy\"] = df[\"parsed_date\"].dt.dayofyear\n",
    "\n",
    "dfind = df.set_index(['zone_id','parsed_date'])"
   ]
  },
  {
   "cell_type": "code",
   "execution_count": 41,
   "id": "2901786a-537d-437d-84fe-a147da1259e7",
   "metadata": {
    "execution": {
     "iopub.execute_input": "2025-07-03T17:06:27.984224Z",
     "iopub.status.busy": "2025-07-03T17:06:27.983874Z",
     "iopub.status.idle": "2025-07-03T17:06:28.153635Z",
     "shell.execute_reply": "2025-07-03T17:06:28.152692Z",
     "shell.execute_reply.started": "2025-07-03T17:06:27.984204Z"
    }
   },
   "outputs": [
    {
     "data": {
      "text/plain": [
       "<Axes: xlabel='parsed_date'>"
      ]
     },
     "execution_count": 41,
     "metadata": {},
     "output_type": "execute_result"
    },
    {
     "data": {
      "image/png": "[encoded data removed]",
      "text/plain": [
       "<Figure size 640x480 with 1 Axes>"
      ]
     },
     "metadata": {},
     "output_type": "display_data"
    }
   ],
   "source": [
    "dfind.loc[1,'mean'].plot(marker=\".\")"
   ]
  }
 ],
 "metadata": {
  "kernelspec": {
   "display_name": "Python 3 (ipykernel)",
   "language": "python",
   "name": "python3"
  },
  "language_info": {
   "codemirror_mode": {
    "name": "ipython",
    "version": 3
   },
   "file_extension": ".py",
   "mimetype": "text/x-python",
   "name": "python",
   "nbconvert_exporter": "python",
   "pygments_lexer": "ipython3",
   "version": "3.13.1"
  }
 },
 "nbformat": 4,
 "nbformat_minor": 5
}
