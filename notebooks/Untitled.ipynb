{
 "cells": [
  {
   "cell_type": "code",
   "execution_count": 1,
   "id": "3019de97-a099-4d18-ba50-303cd57b217e",
   "metadata": {
    "execution": {
     "iopub.execute_input": "2025-07-03T23:00:11.786094Z",
     "iopub.status.busy": "2025-07-03T23:00:11.785818Z",
     "iopub.status.idle": "2025-07-03T23:00:12.244753Z",
     "shell.execute_reply": "2025-07-03T23:00:12.243614Z",
     "shell.execute_reply.started": "2025-07-03T23:00:11.786074Z"
    }
   },
   "outputs": [
    {
     "ename": "ModuleNotFoundError",
     "evalue": "No module named 'pystac_client'",
     "output_type": "error",
     "traceback": [
      "\u001b[1;31m---------------------------------------------------------------------------\u001b[0m",
      "\u001b[1;31mModuleNotFoundError\u001b[0m                       Traceback (most recent call last)",
      "Cell \u001b[1;32mIn[1], line 3\u001b[0m\n\u001b[0;32m      1\u001b[0m \u001b[38;5;28;01mfrom\u001b[39;00m\u001b[38;5;250m \u001b[39m\u001b[38;5;21;01mdatetime\u001b[39;00m\u001b[38;5;250m \u001b[39m\u001b[38;5;28;01mimport\u001b[39;00m date\n\u001b[0;32m      2\u001b[0m \u001b[38;5;28;01mfrom\u001b[39;00m\u001b[38;5;250m \u001b[39m\u001b[38;5;21;01mshapely\u001b[39;00m\u001b[38;5;21;01m.\u001b[39;00m\u001b[38;5;21;01mgeometry\u001b[39;00m\u001b[38;5;250m \u001b[39m\u001b[38;5;28;01mimport\u001b[39;00m Point, box\n\u001b[1;32m----> 3\u001b[0m \u001b[38;5;28;01mfrom\u001b[39;00m\u001b[38;5;250m \u001b[39m\u001b[38;5;21;01mpystac_client\u001b[39;00m\u001b[38;5;250m \u001b[39m\u001b[38;5;28;01mimport\u001b[39;00m Client\n\u001b[0;32m      5\u001b[0m \u001b[38;5;66;03m# 1. 2 km box around your point (lon, lat)\u001b[39;00m\n\u001b[0;32m      6\u001b[0m lon, lat \u001b[38;5;241m=\u001b[39m \u001b[38;5;241m-\u001b[39m\u001b[38;5;241m111.7\u001b[39m, \u001b[38;5;241m40.8\u001b[39m\n",
      "\u001b[1;31mModuleNotFoundError\u001b[0m: No module named 'pystac_client'"
     ]
    }
   ],
   "source": [
    "from datetime import date\n",
    "from shapely.geometry import Point, box\n",
    "from pystac_client import Client\n",
    "\n",
    "# 1. 2 km box around your point (lon, lat)\n",
    "lon, lat = -111.7, 40.8\n",
    "bbox = box(lon-0.01, lat-0.01, lon+0.01, lat+0.01).bounds   # (minx, miny, maxx, maxy)\n",
    "\n",
    "# 2. Connect to the USGS Landsat STAC server\n",
    "api = Client.open(\"https://landsatlook.usgs.gov/stac-server\")\n",
    "search = api.search(\n",
    "    collections=[\"landsat-c2-l2\"],\n",
    "    bbox=bbox,\n",
    "    datetime=\"2013-01-01/2025-12-31\",   # adjust as needed\n",
    "    limit=10_000                         # big enough for full history\n",
    ")\n",
    "\n",
    "# 3. Pull the acquisition dates\n",
    "dates = sorted({item.properties[\"datetime\"][:10] for item in search.items()})\n",
    "\n"
   ]
  }
 ],
 "metadata": {
  "kernelspec": {
   "display_name": "Python 3 (ipykernel)",
   "language": "python",
   "name": "python3"
  },
  "language_info": {
   "codemirror_mode": {
    "name": "ipython",
    "version": 3
   },
   "file_extension": ".py",
   "mimetype": "text/x-python",
   "name": "python",
   "nbconvert_exporter": "python",
   "pygments_lexer": "ipython3",
   "version": "3.13.1"
  }
 },
 "nbformat": 4,
 "nbformat_minor": 5
}
