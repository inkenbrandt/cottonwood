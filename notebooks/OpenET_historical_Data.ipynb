{
 "cells": [
  {
   "cell_type": "markdown",
   "id": "00024057-b73e-4bf1-bc87-3e6334e2942b",
   "metadata": {},
   "source": [
    "* https://utah.openet-api.org/#/Retrieve%20Raster%20Data/_raster_timeseries_point_post\n",
    "* https://openet.gitbook.io/docs/reference/api-reference\n",
    "* https://docs.google.com/document/d/1zxfZtaKZ6CedLq2c7UE7TCyPfA4DaqUwpGcZEjpYbHA/edit?usp=sharing\n",
    "* https://github.com/WSWUP/et-demands\n",
    "* https://docs.google.com/document/d/1z6MpbHUmI_gnTHNcHM1sIN4HZU9yfKd5/edit?usp=sharing&ouid=114284621295297079264&rtpof=true&sd=true\n",
    "* "
   ]
  },
  {
   "cell_type": "code",
   "execution_count": 1,
   "id": "7a593ba0-0f39-4c06-ae53-b229b31e3506",
   "metadata": {
    "execution": {
     "iopub.execute_input": "2024-10-02T15:50:35.101854Z",
     "iopub.status.busy": "2024-10-02T15:50:35.101566Z",
     "iopub.status.idle": "2024-10-02T15:50:47.843259Z",
     "shell.execute_reply": "2024-10-02T15:50:47.843259Z",
     "shell.execute_reply.started": "2024-10-02T15:50:35.101854Z"
    }
   },
   "outputs": [],
   "source": [
    "import pandas as pd\n",
    "import numpy as np\n",
    "import glob\n",
    "import os\n",
    "import geopandas as gpd\n",
    "import urllib\n",
    "import sys\n",
    "import pathlib\n",
    "import glob\n",
    "import matplotlib.pyplot as plt\n",
    "from urllib.parse import quote\n",
    "from sqlalchemy import create_engine\n",
    "import configparser\n",
    "\n",
    "\n",
    "import statsmodels.api as sm\n",
    "#import pingouin as pg\n",
    "import plotly.express as px\n"
   ]
  },
  {
   "cell_type": "code",
   "execution_count": 2,
   "id": "7410f167-bb22-4407-bb2e-15a75b6c8944",
   "metadata": {
    "execution": {
     "iopub.execute_input": "2024-10-02T15:50:47.844264Z",
     "iopub.status.busy": "2024-10-02T15:50:47.844264Z",
     "iopub.status.idle": "2024-10-02T15:50:54.698737Z",
     "shell.execute_reply": "2024-10-02T15:50:54.698737Z",
     "shell.execute_reply.started": "2024-10-02T15:50:47.844264Z"
    }
   },
   "outputs": [
    {
     "name": "stdout",
     "output_type": "stream",
     "text": [
      "credentials needed\n"
     ]
    }
   ],
   "source": [
    "sys.path.append(\"G:/Shared drives/UGS_Flux/Data_Processing/Jupyter_Notebooks/Micromet\")\n",
    "#sys.path.append(\"../../Micromet\")\n",
    "import micromet\n",
    "\n",
    "%matplotlib inline"
   ]
  },
  {
   "cell_type": "code",
   "execution_count": null,
   "id": "3f90d2ac-c494-4b01-8b73-16cabe332e6f",
   "metadata": {},
   "outputs": [],
   "source": []
  }
 ],
 "metadata": {
  "kernelspec": {
   "display_name": "Python 3 (ipykernel)",
   "language": "python",
   "name": "python3"
  },
  "language_info": {
   "codemirror_mode": {
    "name": "ipython",
    "version": 3
   },
   "file_extension": ".py",
   "mimetype": "text/x-python",
   "name": "python",
   "nbconvert_exporter": "python",
   "pygments_lexer": "ipython3",
   "version": "3.12.6"
  }
 },
 "nbformat": 4,
 "nbformat_minor": 5
}
