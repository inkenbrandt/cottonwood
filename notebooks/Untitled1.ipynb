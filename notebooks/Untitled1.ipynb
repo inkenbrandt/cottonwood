{
 "cells": [
  {
   "cell_type": "code",
   "execution_count": 1,
   "id": "d3242a8c-8b71-43e3-b831-ef4e4a2888b5",
   "metadata": {
    "execution": {
     "iopub.execute_input": "2024-02-29T21:58:20.970454Z",
     "iopub.status.busy": "2024-02-29T21:58:20.970454Z",
     "iopub.status.idle": "2024-02-29T21:58:26.399890Z",
     "shell.execute_reply": "2024-02-29T21:58:26.399890Z",
     "shell.execute_reply.started": "2024-02-29T21:58:20.970454Z"
    },
    "tags": []
   },
   "outputs": [],
   "source": [
    "import pandas as pd\n",
    "import pathlib"
   ]
  },
  {
   "cell_type": "code",
   "execution_count": 2,
   "id": "195f8f43-ebe7-4b4d-a256-ed900d31b63c",
   "metadata": {
    "execution": {
     "iopub.execute_input": "2024-02-29T22:01:22.333271Z",
     "iopub.status.busy": "2024-02-29T22:01:22.333271Z",
     "iopub.status.idle": "2024-02-29T22:01:22.339024Z",
     "shell.execute_reply": "2024-02-29T22:01:22.339024Z",
     "shell.execute_reply.started": "2024-02-29T22:01:22.333271Z"
    },
    "tags": []
   },
   "outputs": [],
   "source": [
    "csv_folder = pathlib.Path(r\"G:\\Shared drives\\UGS_Groundwater\\Projects\\Transducers\\processed_data\\20231220\")"
   ]
  },
  {
   "cell_type": "code",
   "execution_count": 9,
   "id": "1f0ae615-582f-4802-bbe8-add2c41917f7",
   "metadata": {
    "execution": {
     "iopub.execute_input": "2024-02-29T22:05:37.351277Z",
     "iopub.status.busy": "2024-02-29T22:05:37.351277Z",
     "iopub.status.idle": "2024-02-29T22:05:54.870179Z",
     "shell.execute_reply": "2024-02-29T22:05:54.870179Z",
     "shell.execute_reply.started": "2024-02-29T22:05:37.351277Z"
    },
    "tags": []
   },
   "outputs": [
    {
     "name": "stderr",
     "output_type": "stream",
     "text": [
      "C:\\Users\\paulinkenbrandt\\AppData\\Local\\Temp\\1\\ipykernel_20496\\1970882670.py:7: FutureWarning: The behavior of DataFrame concatenation with empty or all-NA entries is deprecated. In a future version, this will no longer exclude empty or all-NA columns when determining the result dtypes. To retain the old behavior, exclude the relevant entries before the concat operation.\n",
      "  combined = pd.concat(dfs)\n"
     ]
    }
   ],
   "source": [
    "dfs = {}\n",
    "\n",
    "for file in csv_folder.glob(\"p*csv\"):\n",
    "    fnm = file.name.split(\".\")[0]\n",
    "    \n",
    "    dfs[fnm] = pd.read_csv(file, parse_dates=True)\n",
    "combined = pd.concat(dfs)"
   ]
  },
  {
   "cell_type": "code",
   "execution_count": 14,
   "id": "4163ba82-dcd5-4141-ae64-3f1b533915da",
   "metadata": {
    "execution": {
     "iopub.execute_input": "2024-02-29T22:07:11.096272Z",
     "iopub.status.busy": "2024-02-29T22:07:11.096272Z",
     "iopub.status.idle": "2024-02-29T22:07:35.085708Z",
     "shell.execute_reply": "2024-02-29T22:07:35.085708Z",
     "shell.execute_reply.started": "2024-02-29T22:07:11.096272Z"
    },
    "tags": []
   },
   "outputs": [],
   "source": [
    "combined.reset_index().drop(['level_0', 'level_1', 'Unnamed: 0'],axis=1).to_csv(csv_folder/ \"all_csvs.csv\")"
   ]
  }
 ],
 "metadata": {
  "kernelspec": {
   "display_name": "Python 3 (ipykernel)",
   "language": "python",
   "name": "python3"
  },
  "language_info": {
   "codemirror_mode": {
    "name": "ipython",
    "version": 3
   },
   "file_extension": ".py",
   "mimetype": "text/x-python",
   "name": "python",
   "nbconvert_exporter": "python",
   "pygments_lexer": "ipython3",
   "version": "3.11.6"
  }
 },
 "nbformat": 4,
 "nbformat_minor": 5
}
